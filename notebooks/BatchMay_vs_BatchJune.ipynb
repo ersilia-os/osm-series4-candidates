{
 "cells": [
  {
   "cell_type": "code",
   "execution_count": 1,
   "id": "3cc0b5d1",
   "metadata": {},
   "outputs": [],
   "source": [
    "import rdkit\n",
    "from rdkit import Chem\n",
    "from rdkit.Chem import rdFMCS\n",
    "from rdkit.Chem import inchi\n",
    "import pandas as pd"
   ]
  },
  {
   "cell_type": "markdown",
   "id": "3defa8a0",
   "metadata": {},
   "source": [
    "Compare batches with list of smiles generated in May"
   ]
  },
  {
   "cell_type": "code",
   "execution_count": 3,
   "id": "cec5802f",
   "metadata": {},
   "outputs": [
    {
     "data": {
      "text/plain": [
       "set()"
      ]
     },
     "execution_count": 3,
     "metadata": {},
     "output_type": "execute_result"
    }
   ],
   "source": [
    "df=pd.read_csv(\"../data/ReinventResults/ProcessedResults/all_batches.csv\")\n",
    "df2=pd.read_csv(\"../data/ReinventResults2/batch_03.csv\")\n",
    "old_smiles = df[\"Smiles\"].to_list()\n",
    "new_smiles = df2[\"smiles\"].to_list()\n",
    "repeated_smiles = set(old_smiles) & set(new_smiles)\n",
    "repeated_smiles"
   ]
  },
  {
   "cell_type": "code",
   "execution_count": 4,
   "id": "1de5ac81",
   "metadata": {},
   "outputs": [
    {
     "data": {
      "text/plain": [
       "set()"
      ]
     },
     "execution_count": 4,
     "metadata": {},
     "output_type": "execute_result"
    }
   ],
   "source": [
    "old_mols=[Chem.MolFromSmiles(smi) for smi in old_smiles]\n",
    "old_smarts=[Chem.MolToSmarts(mol) for mol in old_mols ]\n",
    "new_mols=[Chem.MolFromSmiles(smi) for smi in new_smiles]\n",
    "new_smarts=[Chem.MolToSmarts(mol) for mol in new_mols ]\n",
    "repeated_smarts = set(old_smarts) & set(new_smarts)\n",
    "repeated_smarts"
   ]
  },
  {
   "cell_type": "code",
   "execution_count": 5,
   "id": "fcd4a42f",
   "metadata": {},
   "outputs": [
    {
     "data": {
      "text/plain": [
       "set()"
      ]
     },
     "execution_count": 5,
     "metadata": {},
     "output_type": "execute_result"
    }
   ],
   "source": [
    "df=pd.read_csv(\"../data/ReinventResults/ProcessedResults/all_batches.csv\")\n",
    "df2=pd.read_csv(\"../data/ReinventResults2/batch_04.csv\")\n",
    "old_smiles = df[\"Smiles\"].to_list()\n",
    "new_smiles = df2[\"smiles\"].to_list()\n",
    "repeated_smiles = set(old_smiles) & set(new_smiles)\n",
    "repeated_smiles"
   ]
  },
  {
   "cell_type": "code",
   "execution_count": 9,
   "id": "af884e9d",
   "metadata": {},
   "outputs": [
    {
     "data": {
      "text/plain": [
       "set()"
      ]
     },
     "execution_count": 9,
     "metadata": {},
     "output_type": "execute_result"
    }
   ],
   "source": [
    "old_mols=[Chem.MolFromSmiles(smi) for smi in old_smiles]\n",
    "old_smarts=[Chem.MolToSmarts(mol) for mol in old_mols ]\n",
    "new_mols=[Chem.MolFromSmiles(smi) for smi in new_smiles]\n",
    "new_smarts=[Chem.MolToSmarts(mol) for mol in new_mols ]\n",
    "repeated_smarts = set(old_smarts) & set(new_smarts)\n",
    "repeated_smarts"
   ]
  },
  {
   "cell_type": "code",
   "execution_count": 10,
   "id": "bebc1f72",
   "metadata": {},
   "outputs": [
    {
     "data": {
      "text/plain": [
       "{'c1(-c2nnc3cncc(OCCc4ccc(Br)cc4)n23)ccc(C#N)cc1',\n",
       " 'c1(C#N)ccc(-c2nnc3cncc(OCCc4ccc(Br)cc4)n23)cc1',\n",
       " 'c1c(-c2nnc3cncc(OCCc4cc(Br)c(F)cc4)n23)ccc(C#N)c1',\n",
       " 'c1c(-c2nnc3cncc(OCCc4ccc(Br)c(F)c4)n32)ccc(F)c1',\n",
       " 'c1c(F)ccc(-c2nnc3cncc(OCCc4ccc(Br)c(F)c4)n32)c1',\n",
       " 'c1cc(C#N)ccc1-c1nnc2cncc(OCCc3cc(F)c(Br)cc3)n21',\n",
       " 'c1cc(C#N)ccc1-c1nnc2cncc(OCCc3ccc(Br)c(F)c3)n21'}"
      ]
     },
     "execution_count": 10,
     "metadata": {},
     "output_type": "execute_result"
    }
   ],
   "source": [
    "batch3=pd.read_csv(\"../data/ReinventResults2/batch_03.csv\")\n",
    "batch4=pd.read_csv(\"../data/ReinventResults2/batch_04.csv\")\n",
    "batch3_smiles=batch3[\"smiles\"].to_list()\n",
    "batch4_smiles=batch4[\"smiles\"].to_list()\n",
    "repeated_smiles=set(batch3_smiles) & set(batch4_smiles)\n",
    "repeated_smiles"
   ]
  },
  {
   "cell_type": "code",
   "execution_count": 19,
   "id": "3192e25c",
   "metadata": {},
   "outputs": [
    {
     "data": {
      "text/plain": [
       "set()"
      ]
     },
     "execution_count": 19,
     "metadata": {},
     "output_type": "execute_result"
    }
   ],
   "source": [
    "batch3=pd.read_csv(\"../data/ReinventResults2/batch_03.csv\")\n",
    "batch4=pd.read_csv(\"../data/ReinventResults2/batch_04.csv\")\n",
    "original=pd.read_csv(\"../data/OriginalData/series4_processed.csv\")\n",
    "batch3_smiles=batch3[\"smiles\"].to_list()\n",
    "batch4_smiles=batch4[\"smiles\"].to_list()\n",
    "original_smiles=original[\"smiles\"].to_list()\n",
    "\n",
    "batch3_mols=[Chem.MolFromSmiles(smi) for smi in batch3_smiles]\n",
    "batch4_mols=[Chem.MolFromSmiles(smi) for smi in batch4_smiles]\n",
    "original_mols=[Chem.MolFromSmiles(smi) for smi in original_smiles]\n",
    "\n",
    "batch3_inchi=[inchi.MolToInchiKey(mol) for mol in batch3_mols]\n",
    "batch4_inchi=[inchi.MolToInchiKey(mol) for mol in batch4_mols]\n",
    "original_inchi=[inchi.MolToInchiKey(mol) for mol in original_mols]\n",
    "\n",
    "repeated_inchi=set(batch3_inchi) & set(original_inchi)\n",
    "repeated_inchi"
   ]
  },
  {
   "cell_type": "code",
   "execution_count": 5,
   "id": "d3595bc5",
   "metadata": {},
   "outputs": [
    {
     "data": {
      "text/plain": [
       "set()"
      ]
     },
     "execution_count": 5,
     "metadata": {},
     "output_type": "execute_result"
    }
   ],
   "source": [
    "original=pd.read_csv(\"../data/OriginalData/series4_processed.csv\")\n",
    "original_smiles=original[\"smiles\"].to_list()\n",
    "original_mols=[Chem.MolFromSmiles(smi) for smi in original_smiles]\n",
    "original_inchi=[inchi.MolToInchiKey(mol) for mol in original_mols]\n",
    "evariste_inchi=[\"MUALDAGGYADATI-UHFFFAOYNA-N\"]\n",
    "\n",
    "repeated_inchi=set(original_inchi)&set(evariste_inchi)\n",
    "repeated_inchi"
   ]
  },
  {
   "cell_type": "code",
   "execution_count": null,
   "id": "be48f6e1",
   "metadata": {},
   "outputs": [],
   "source": []
  }
 ],
 "metadata": {
  "kernelspec": {
   "display_name": "Python 3",
   "language": "python",
   "name": "python3"
  },
  "language_info": {
   "codemirror_mode": {
    "name": "ipython",
    "version": 3
   },
   "file_extension": ".py",
   "mimetype": "text/x-python",
   "name": "python",
   "nbconvert_exporter": "python",
   "pygments_lexer": "ipython3",
   "version": "3.7.10"
  }
 },
 "nbformat": 4,
 "nbformat_minor": 5
}
