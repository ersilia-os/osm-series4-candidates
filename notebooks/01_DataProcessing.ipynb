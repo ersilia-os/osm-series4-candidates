{
 "cells": [
  {
   "cell_type": "markdown",
   "id": "6d45a62e",
   "metadata": {},
   "source": [
    "# Processing of MalariaMolecules.csv\n",
    "Processing of original data from [MasterList](https://docs.google.com/spreadsheets/d/1Rvy6OiM291d1GN_cyT6eSw_C3lSuJ1jaR7AJa8hgGsc/edit#gid=510297618) containing all available information for OSM compounds (from different series).\n",
    "Downloaded on 20.05.21"
   ]
  },
  {
   "cell_type": "code",
   "execution_count": 2,
   "id": "5746c552",
   "metadata": {},
   "outputs": [],
   "source": [
    "import pandas as pd\n",
    "import numpy as np\n",
    "import csv\n",
    "import os\n",
    "from scipy.stats import rankdata\n",
    "from rdkit import Chem\n",
    "import rdkit.Chem.rdFMCS as rdFMCS\n",
    "PATH=\"../data/OriginalData\""
   ]
  },
  {
   "cell_type": "markdown",
   "id": "cc0c7fac",
   "metadata": {},
   "source": [
    "## Select Activity values \n",
    "We only keep activity data for inherited EC50 and experimental IC50s (not including experiments against multidrug resistant strains Dd2 and K1"
   ]
  },
  {
   "cell_type": "code",
   "execution_count": 3,
   "id": "05f56963",
   "metadata": {},
   "outputs": [],
   "source": [
    "#open MalariaMolecules as a dataframe taking only columns of interest\n",
    "df=pd.read_csv(os.path.join(PATH, \"MalariaMolecules.csv\"), usecols = [\"OSM Number\", \"SMILES\", \"Series\", \"PfaI EC50 (Inh)\", \"Pfal IC50 (GSK)\", \"Pfal IC50 (Syngene)\",\"Pfal IC50 (Dundee)\", \"Pfal IC50 (Avery)\", \"Pfal IC50 (Ralph)\", \"Pfal IC50 (Guy)\", \"Pfal IC50 (Batra)\", \"Pfal (3D7) IC50 (Broad)\"])\n",
    "#rename the columns for more consistent nomenclature\n",
    "df.rename(columns={\"OSM Number\":\"OSMNumber\",\n",
    "                   \"SMILES\":\"smiles\",\n",
    "                   \"Series\":\"series\",\n",
    "                   \"PfaI EC50 (Inh)\":\"EC50_Inh\", \n",
    "                   \"Pfal IC50 (GSK)\":\"IC50_GSK\", \n",
    "                   \"Pfal IC50 (Syngene)\":\"IC50_Syngene\",\n",
    "                   \"Pfal IC50 (Dundee)\":\"IC50_Dundee\", \n",
    "                   \"Pfal IC50 (Avery)\":\"IC50_Avery\", \n",
    "                   \"Pfal IC50 (Ralph)\":\"IC50_Ralph\", \n",
    "                   \"Pfal IC50 (Guy)\":\"IC50_Guy\",\n",
    "                   \"Pfal IC50 (Batra)\":\"IC50_Batra\", \n",
    "                   \"Pfal (3D7) IC50 (Broad)\":\"IC50_Broad\"},\n",
    "                   inplace=True)"
   ]
  },
  {
   "cell_type": "markdown",
   "id": "b4748c83",
   "metadata": {},
   "source": [
    "## Clean data for average activity \n",
    "Dundee, Avery, GSK and Syngene IC50 columns contain several values separated by , or ; which must be added in different columns for average calculation"
   ]
  },
  {
   "cell_type": "code",
   "execution_count": 4,
   "id": "cfb9cf8f",
   "metadata": {},
   "outputs": [],
   "source": [
    "#Delete Qualifier > for easy averaging\n",
    "df=df.replace({'>':''}, regex=True)\n",
    "\n",
    "#eliminate rows where data is not given as IC50 but as % of inhibition at certain uM concentration.\n",
    "#these rows all relate to IC50_Avery and series 1 or 3 compounds\n",
    "df2=df[df['IC50_Avery'].str.contains('[A-Za-z]', na=False)]\n",
    "df3=df.drop(df[df['IC50_Avery'].str.contains('[A-Za-z]', na=False)].index)\n",
    "df3.to_csv(os.path.join(PATH,\"all_series_notsep.csv\"), index=False)\n",
    "\n",
    "#split columns that have 2 or more values as different experiments (some are separated by \",\" and some by \";\")\n",
    "df=pd.read_csv(os.path.join(PATH,\"all_series_notsep.csv\"))\n",
    "#create a dataframe for each splitted column\n",
    "df4=pd.DataFrame(df.IC50_Dundee.str.split(\",\",expand=True).values.tolist(), columns=[\"IC50_Dundee1\",\"IC50_Dundee2\",\"IC50_Dundee3\",\"IC50_Dundee4\",\"IC50_Dundee5\"])\n",
    "df5=pd.DataFrame(df.IC50_Syngene.str.split(\",\",expand=True).values.tolist(), columns=[\"IC50_Syngene1\",\"IC50_Syngene2\"])\n",
    "df6=pd.DataFrame(df.IC50_GSK.str.split(\";\",expand=True).values.tolist(), columns=[\"IC50_GSK1\",\"IC50_GSK2\"])\n",
    "df7=pd.DataFrame(df.IC50_Avery.str.split(\";\",expand=True).values.tolist(), columns=[\"IC50_Avery1\",\"IC50_Avery2\"])\n",
    "dataframes=[df4,df5, df6, df7]\n",
    "#add the dataframes to the full dataframe\n",
    "df8=df.join(dataframes, how=\"outer\")\n",
    "df8= df8.fillna(value=np.nan)\n",
    "#eliminate the columns containing multiple values\n",
    "df9=df8.drop(columns = [\"IC50_Dundee\", \"IC50_Syngene\", \"IC50_GSK\", \"IC50_Avery\"])"
   ]
  },
  {
   "cell_type": "markdown",
   "id": "fe00c830",
   "metadata": {},
   "source": [
    "### Calculate mean activity\n",
    "Include all IC50 as individual values"
   ]
  },
  {
   "cell_type": "code",
   "execution_count": 5,
   "id": "fdc4cb6b",
   "metadata": {},
   "outputs": [],
   "source": [
    "#calculate mean activity in new column\n",
    "cols = [\"EC50_Inh\", \n",
    "          \"IC50_GSK1\",\n",
    "          \"IC50_GSK2\",\n",
    "          \"IC50_Syngene1\", \n",
    "          \"IC50_Syngene2\",\n",
    "          \"IC50_Dundee1\", \n",
    "          \"IC50_Dundee2\",\n",
    "          \"IC50_Dundee3\", \n",
    "          \"IC50_Dundee4\", \n",
    "          \"IC50_Dundee5\",\n",
    "          \"IC50_Avery1\",\n",
    "          \"IC50_Avery2\",\n",
    "          \"IC50_Ralph\", \n",
    "          \"IC50_Guy\",\n",
    "          \"IC50_Batra\", \n",
    "          \"IC50_Broad\"]\n",
    "df9[cols] = df9[cols].apply(pd.to_numeric, errors='raise', axis=1)\n",
    "\n",
    "df9['activity'] = df9[[\"EC50_Inh\", \n",
    "                          \"IC50_GSK1\",\n",
    "                          \"IC50_GSK2\",\n",
    "                          \"IC50_Syngene1\", \n",
    "                          \"IC50_Syngene2\",\n",
    "                          \"IC50_Dundee1\", \n",
    "                          \"IC50_Dundee2\",\n",
    "                          \"IC50_Dundee3\", \n",
    "                          \"IC50_Dundee4\", \n",
    "                          \"IC50_Dundee5\",\n",
    "                          \"IC50_Avery1\",\n",
    "                          \"IC50_Avery2\",\n",
    "                          \"IC50_Ralph\", \n",
    "                          \"IC50_Guy\",\n",
    "                          \"IC50_Batra\", \n",
    "                          \"IC50_Broad\"]].mean(axis=1, numeric_only=None)\n",
    "#drop all columns except mean\n",
    "df10=df9.drop(columns = [\"EC50_Inh\", \n",
    "                          \"IC50_GSK1\",\n",
    "                          \"IC50_GSK2\",\n",
    "                          \"IC50_Syngene1\", \n",
    "                          \"IC50_Syngene2\",\n",
    "                          \"IC50_Dundee1\", \n",
    "                          \"IC50_Dundee2\",\n",
    "                          \"IC50_Dundee3\", \n",
    "                          \"IC50_Dundee4\", \n",
    "                          \"IC50_Dundee5\",\n",
    "                          \"IC50_Avery1\",\n",
    "                          \"IC50_Avery2\",\n",
    "                          \"IC50_Ralph\", \n",
    "                          \"IC50_Guy\",\n",
    "                          \"IC50_Batra\", \n",
    "                          \"IC50_Broad\"])\n",
    "#delete rows without smiles\n",
    "df11=df10.dropna(subset=[\"smiles\"])"
   ]
  },
  {
   "cell_type": "markdown",
   "id": "5575c1ef",
   "metadata": {},
   "source": [
    "### Change to canonical smiles\n",
    "Change Smiles strings to canonical smiles using canonical_smiles.py script"
   ]
  },
  {
   "cell_type": "code",
   "execution_count": 6,
   "id": "b55fe039",
   "metadata": {},
   "outputs": [
    {
     "name": "stderr",
     "output_type": "stream",
     "text": [
      "C:\\Users\\Gemma\\Anaconda3\\envs\\malariaOSM\\lib\\site-packages\\ipykernel_launcher.py:11: SettingWithCopyWarning: \n",
      "A value is trying to be set on a copy of a slice from a DataFrame.\n",
      "Try using .loc[row_indexer,col_indexer] = value instead\n",
      "\n",
      "See the caveats in the documentation: https://pandas.pydata.org/pandas-docs/stable/user_guide/indexing.html#returning-a-view-versus-a-copy\n",
      "  # This is added back by InteractiveShellApp.init_path()\n"
     ]
    }
   ],
   "source": [
    "#add canonical smiles\n",
    "from scripts.canonical_smiles import read_smiles_file #python script from Reinvent modified so if canonical smiles is None, keep original smiles\n",
    "\n",
    "df12=df11[\"smiles\"]\n",
    "df12.to_csv(os.path.join(PATH,\"smiles.csv\"), index=False, header=False)\n",
    "\n",
    "canonicals = []\n",
    "for smiles in read_smiles_file(os.path.join(PATH,\"smiles.csv\"), ignore_invalid=False):\n",
    "    canonicals += [smiles]\n",
    "\n",
    "df11[\"canonical\"] = canonicals\n",
    "df11=df11.drop(columns=[\"smiles\"])\n",
    "\n",
    "#keep .csv with all series\n",
    "df11.to_csv(os.path.join(PATH,\"all_series_IC50mean.csv\"), index=False)\n"
   ]
  },
  {
   "cell_type": "markdown",
   "id": "d21f121e",
   "metadata": {},
   "source": [
    "## Keep only series 4 compounds for subsequent analysis\n",
    "Includes the test set of competition Round 2 and the new candidates proposed.\n",
    "OSM-LO-48 and OSM-LO-49 are new candidates from the ChemArxv series4-competition paper for which experimental data is available but not entered in the Master List."
   ]
  },
  {
   "cell_type": "code",
   "execution_count": 7,
   "id": "d8db8788",
   "metadata": {},
   "outputs": [
    {
     "name": "stderr",
     "output_type": "stream",
     "text": [
      "C:\\Users\\Gemma\\Anaconda3\\envs\\malariaOSM\\lib\\site-packages\\pandas\\core\\indexing.py:1720: SettingWithCopyWarning: \n",
      "A value is trying to be set on a copy of a slice from a DataFrame.\n",
      "Try using .loc[row_indexer,col_indexer] = value instead\n",
      "\n",
      "See the caveats in the documentation: https://pandas.pydata.org/pandas-docs/stable/user_guide/indexing.html#returning-a-view-versus-a-copy\n",
      "  self._setitem_single_column(loc, value, pi)\n"
     ]
    }
   ],
   "source": [
    "df=pd.read_csv(os.path.join(PATH, \"all_series_IC50mean.csv\"))\n",
    "\n",
    "#select only series 4\n",
    "df2=df.loc[df[\"series\"]==\"4\"]\n",
    "\n",
    "#find test molecules without IC50 and add them from ChemArxv paper\n",
    "exscientia2=df2.loc[df2[\"OSMNumber\"]==\"OSM-LO-48\"].index[0]\n",
    "molomics2=df2.loc[df2[\"OSMNumber\"]==\"OSM-LO-49\"].index[0]\n",
    "\n",
    "df2.loc[exscientia2,\"activity\"]=2.42\n",
    "df2.loc[molomics2,\"activity\"]=1.24\n",
    "\n",
    "df2.to_csv(os.path.join(PATH,\"series4_IC50mean.csv\"), index=False)"
   ]
  },
  {
   "cell_type": "markdown",
   "id": "fc45e267",
   "metadata": {},
   "source": [
    "### Clean Series 4 Dataset\n",
    "Some series 4 compounds do not maintain the triazolopyrazine core, and are therefore discarded to avoid further diversification of the core in subsequent steps.\n",
    "Compounds without experimental activity available and no smiles (or non canonical smiles) are also eliminated. \n",
    "Finally, activity output is classified as active (0-2.5 uM) or inactive (>2.5 uM), according to [OSM classification](https://github.com/OpenSourceMalaria/Series4_PredictiveModel/issues/1#issuecomment-524913974) to obtain binary activity values (0: inactive - 1: active). A regression with activity values normalized from 0 to 1 is also added to the final file."
   ]
  },
  {
   "cell_type": "code",
   "execution_count": 10,
   "id": "077a5b89",
   "metadata": {},
   "outputs": [
    {
     "name": "stdout",
     "output_type": "stream",
     "text": [
      "True\n"
     ]
    }
   ],
   "source": [
    "# 1. Remove molecules without the triazolopyrazine core using the Maximmum Common Substructre (MCS) from rdKit\n",
    "    # SMILES: C1=NN=C2C=NC=CN12 --> if not 9 matches count as not series4\n",
    "\n",
    "df = pd.read_csv(os.path.join(PATH,\"series4_IC50mean.csv\"))\n",
    "series4 = []\n",
    "osms_ = list(df[\"OSMNumber\"])\n",
    "osms = []\n",
    "for i, m in enumerate(list(df[\"canonical\"])):\n",
    "    mol = Chem.MolFromSmiles(m)\n",
    "    if mol is None: continue\n",
    "    series4 += [m]\n",
    "    osms += [osms_[i]]\n",
    "refmol = Chem.MolFromSmiles(\"C1=NN=C2C=NC=CN12\")\n",
    "R = []\n",
    "for i, m in enumerate(series4):\n",
    "    mol = Chem.MolFromSmiles(m)\n",
    "    mcs = rdFMCS.FindMCS([mol, refmol])\n",
    "    if mcs.numAtoms != 9:\n",
    "        R += [[osms[i], m, mcs.numAtoms]]\n",
    "\n",
    "#create a dataframe with molecules that are not actually series4\n",
    "df_nots4 = pd.DataFrame(R, columns=[\"OSMNumber\", \"canonical\", \"mcs\"])\n",
    "\n",
    "#eliminate not series 4 from main data\n",
    "df2=pd.merge(df,df_nots4, how=\"outer\", indicator=True) #join dataframes adding _merge column (\"both\" if smiles coincide)\n",
    "df3=df2[df2._merge == \"both\"]\n",
    "df4=df2[df2._merge != \"both\"] #eliminate rows that are identified as both\n",
    "df4=df4.drop(columns = [\"_merge\", \"mcs\"])\n",
    "\n",
    "#check we have eliminated all non_s4 molecules\n",
    "def moleculenumber(df1, df2, df3):\n",
    "    if len((df3.index)) == len((df1.index))-len((df2.index)):\n",
    "        return True\n",
    "    else:\n",
    "        return False\n",
    "        \n",
    "print(moleculenumber(df, df_nots4, df4))\n",
    "\n",
    "# 2. Eliminate incorrect SMILES\n",
    "\n",
    "idxs=[]\n",
    "for i, smi in enumerate (list(df4[\"canonical\"])):\n",
    "    if Chem.MolFromSmiles(smi):\n",
    "        idxs += [i]       \n",
    "df=df4.iloc[idxs]\n",
    "\n",
    "#keep all s4 correct smiles in a list to check newly generated molecules are not already existing ones\n",
    "series4_smi=df[\"canonical\"] \n",
    "series4_smi.to_csv(os.path.join(PATH,\"series4_allsmiles.csv\"), index=False)\n",
    "\n",
    "# 4. Eliminate molecules without activity\n",
    "df=df[df[\"activity\"].notnull()]\n",
    "\n",
    "# 3. Process activity data for:\n",
    "    #Regression (normalized 0 to 1)\n",
    "    #Classification (0 or 1)\n",
    "    \n",
    "#normalize activity (0 to 1) with rank function\n",
    "y = np.array(df[\"activity\"])\n",
    "r = rankdata (-y, method=\"ordinal\")/len(y) #order activities from 0 to inf and divide each position by total number (1=higher activity, 0=low activity)\n",
    "#create binary code for activity (0=inactive IC50>2.5, 1=active, IC50<=2.5)\n",
    "b = np.zeros(len(y))\n",
    "b[y<=2.5]=1\n",
    "#add to dataframe\n",
    "df=pd.DataFrame({\n",
    "    \"osm\": list(df[\"OSMNumber\"]),\n",
    "    \"smiles\": list(df[\"canonical\"]),\n",
    "    \"activity\": list(df[\"activity\"]),\n",
    "    \"norm_activity\": r,\n",
    "    \"bin_activity\": b\n",
    "})\n",
    "\n",
    "df.to_csv(os.path.join(PATH,\"series4_processed.csv\"), index=False)\n"
   ]
  },
  {
   "cell_type": "markdown",
   "id": "88291a93",
   "metadata": {},
   "source": [
    "#### Separate the 2019 test set for autoML validation\n",
    "AutoML activity predictor has been validated emulatins the competition round 2. The model predicted the actvity for the 32 test molecules with an 80% accuracy."
   ]
  },
  {
   "cell_type": "code",
   "execution_count": 11,
   "id": "9f6ab9bc",
   "metadata": {},
   "outputs": [],
   "source": [
    "df=pd.read_csv(os.path.join(PATH,\"series4_processed.csv\"))\n",
    "df_test=pd.read_csv(os.path.join(PATH,\"test_set.csv\"))\n",
    "\n",
    "df_train = df[~df['osm'].isin(df_test['osm'])] #eliminate test molecules\n",
    "\n",
    "#format for autoML\n",
    "\n",
    "df_train_clf=df_train.loc[:,[\"smiles\",\"bin_activity\"]]\n",
    "df_train_reg=df_train.loc[:,[\"smiles\",\"norm_activity\"]]\n",
    "\n",
    "df_train_clf.to_csv(os.path.join(PATH, \"series4_train_clf.csv\"), index=False)\n",
    "df_train_reg.to_csv(os.path.join(PATH,\"series4_train_reg.csv\"), index=False)"
   ]
  }
 ],
 "metadata": {
  "kernelspec": {
   "display_name": "Python 3",
   "language": "python",
   "name": "python3"
  },
  "language_info": {
   "codemirror_mode": {
    "name": "ipython",
    "version": 3
   },
   "file_extension": ".py",
   "mimetype": "text/x-python",
   "name": "python",
   "nbconvert_exporter": "python",
   "pygments_lexer": "ipython3",
   "version": "3.7.10"
  }
 },
 "nbformat": 4,
 "nbformat_minor": 5
}
