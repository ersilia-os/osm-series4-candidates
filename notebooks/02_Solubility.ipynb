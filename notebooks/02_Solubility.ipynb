{
 "cells": [
  {
   "cell_type": "markdown",
   "id": "0375630c",
   "metadata": {},
   "source": [
    "## Check Solubility of known drugs\n",
    "These values will be used to estimate the desired solubility of new molecules for the SLogP scoring component of REINVENT2.0\n",
    "SLogP will be transformed to a scale of 0(low solubility) - 1 (high solubility) using a reverse sigmoid transformation with inflexion point of 2 (from below estimations)"
   ]
  },
  {
   "cell_type": "code",
   "execution_count": 17,
   "id": "b3a5faaa",
   "metadata": {},
   "outputs": [
    {
     "data": {
      "text/plain": [
       "(array([  31.,   91.,  278.,  558., 1017., 1522., 1029.,  376.,   90.,\n",
       "          26.]),\n",
       " array([-4.9424 , -3.45087, -1.95934, -0.46781,  1.02372,  2.51525,\n",
       "         4.00678,  5.49831,  6.98984,  8.48137,  9.9729 ]),\n",
       " <BarContainer object of 10 artists>)"
      ]
     },
     "execution_count": 17,
     "metadata": {},
     "output_type": "execute_result"
    },
    {
     "data": {
      "image/png": "[encoded data removed]",
      "text/plain": [
       "<Figure size 432x288 with 1 Axes>"
      ]
     },
     "metadata": {
      "needs_background": "light"
     },
     "output_type": "display_data"
    }
   ],
   "source": [
    "%matplotlib inline\n",
    "import pandas as pd\n",
    "from rdkit.Chem.Descriptors import MolLogP\n",
    "from rdkit.Chem import MolFromSmiles\n",
    "import matplotlib.pyplot as plt\n",
    "\n",
    "df=pd.read_csv(\"../data/known_drugs.tsv\", delimiter='\\t', header=None)\n",
    "df=df.loc[:,1]\n",
    "smiles=list(df)\n",
    "mols=[]\n",
    "for smi in smiles:\n",
    "    mol=MolFromSmiles(smi)\n",
    "    mols += [mol]\n",
    "\n",
    "logps=[]\n",
    "for mol in  mols:\n",
    "    logp=MolLogP(mol)\n",
    "    logps += [logp]\n",
    "\n",
    "logps_lim=[x for x in logps if x<10 and x>-5]\n",
    "    \n",
    "plt.hist(logps_lim)"
   ]
  }
 ],
 "metadata": {
  "kernelspec": {
   "display_name": "Python 3",
   "language": "python",
   "name": "python3"
  },
  "language_info": {
   "codemirror_mode": {
    "name": "ipython",
    "version": 3
   },
   "file_extension": ".py",
   "mimetype": "text/x-python",
   "name": "python",
   "nbconvert_exporter": "python",
   "pygments_lexer": "ipython3",
   "version": "3.7.10"
  }
 },
 "nbformat": 4,
 "nbformat_minor": 5
}
