{
 "cells": [
  {
   "cell_type": "code",
   "execution_count": 3,
   "id": "c8a4379f",
   "metadata": {},
   "outputs": [],
   "source": [
    "import rdkit\n",
    "from rdkit import Chem\n",
    "from rdkit.Chem import rdFMCS\n",
    "import pandas as pd"
   ]
  },
  {
   "cell_type": "code",
   "execution_count": 4,
   "id": "d97fffbd",
   "metadata": {},
   "outputs": [
    {
     "data": {
      "text/plain": [
       "'[#6](-[#8]-[#6]1:[#6]:[#7]:[#6]:[#6]2:[#7]:1:[#6](:[#7]:[#7]:2)-[#6]1:[#6]:[#6]:[#6]:[#6]:[#6]:1)-[#6]-[#6]:,-[#6]:,-[#6]'"
      ]
     },
     "execution_count": 4,
     "metadata": {},
     "output_type": "execute_result"
    }
   ],
   "source": [
    "#identify the subtructures of interest:\n",
    "#random smiles list\n",
    "smiles_list=[\"Fc1cc(F)c(F)c(CCOc2cncc3nnc(-c4ccc(Cl)cc4)n23)c1\", \n",
    "             \"Fc1ccc(C(F)(F)COc2cncc3nnc(-c4ccc(Cl)cc4)n23)cc1\", \n",
    "             \"FC(F)(COc1cncc2nnc(-c3ccc(Cl)cc3)n12)c1ccccc1\", \n",
    "             \"N#Cc1cccc(CCOc2cncc3nnc(-c4ccc(C(F)(F)F)cc4)n23)c1\",\n",
    "             \"FC(F)Oc1ccc(-c2nnc3cncc(OCCc4cccc(C(F)(F)F)c4)n23)cc1\",\n",
    "             \"Fc1ccc(-c2nnc3cncc(OCCc4ccc5ccccc5c4)n23)cc1F\",\n",
    "             \"COc1cc(-c2nnc3cncc(OCCc4cccc(F)c4)n23)ccc1OC(F)F\",\n",
    "             \"FC(F)(COc1cncc2nnc(-c3ccc(Cl)cc3Cl)n12)c1ccccc1\",\n",
    "             \"FC(F)(F)Oc1ccc(-c2nnc3cncc(OCCc4ccc(C(F)(F)F)nc4)n23)cc1\",\n",
    "             \"FC(F)(F)Oc1ccc(-c2nnc3cncc(OCC4CCCO4)n23)cc1\"\n",
    "            ]\n",
    "\n",
    "mols=[]\n",
    "for smile in smiles_list:\n",
    "    mol=Chem.MolFromSmarts(smile)\n",
    "    mols += [mol]\n",
    "\n",
    "#use rdFMCS to identify maximum common substructure on the above molecules (to get variable benzene bonds) \n",
    "rdFMCS.FindMCS(mols).smartsString"
   ]
  },
  {
   "cell_type": "code",
   "execution_count": 5,
   "id": "8bf1b4ab",
   "metadata": {},
   "outputs": [
    {
     "name": "stdout",
     "output_type": "stream",
     "text": [
      "Structure 1: pattern found True\n",
      "Structure 2: pattern found True\n",
      "Structure 3: pattern found True\n",
      "Structure 4: pattern found True\n",
      "Structure 5: pattern found True\n",
      "Structure 6: pattern found True\n",
      "Structure 7: pattern found True\n",
      "Structure 8: pattern found True\n",
      "Structure 9: pattern found True\n",
      "Structure 10: pattern found True\n",
      "Structure 11: pattern found False\n",
      "Structure 12: pattern found False\n",
      "Structure 13: pattern found False\n",
      "Structure 1: pattern found True\n",
      "Structure 2: pattern found True\n",
      "Structure 3: pattern found True\n",
      "Structure 4: pattern found True\n",
      "Structure 5: pattern found True\n",
      "Structure 6: pattern found True\n",
      "Structure 7: pattern found True\n",
      "Structure 8: pattern found True\n",
      "Structure 9: pattern found True\n",
      "Structure 10: pattern found True\n",
      "Structure 11: pattern found False\n",
      "Structure 12: pattern found False\n",
      "Structure 13: pattern found False\n",
      "Structure 1: pattern found True\n",
      "Structure 2: pattern found True\n",
      "Structure 3: pattern found True\n",
      "Structure 4: pattern found True\n",
      "Structure 5: pattern found True\n",
      "Structure 6: pattern found True\n",
      "Structure 7: pattern found True\n",
      "Structure 8: pattern found True\n",
      "Structure 9: pattern found True\n",
      "Structure 10: pattern found True\n",
      "Structure 11: pattern found False\n",
      "Structure 12: pattern found False\n",
      "Structure 13: pattern found False\n"
     ]
    }
   ],
   "source": [
    "#includes aspirin and core substructres to check the patterns\n",
    "smiles_list=[\"Fc1cc(F)c(F)c(CCOc2cncc3nnc(-c4ccc(Cl)cc4)n23)c1\", \n",
    "             \"Fc1ccc(C(F)(F)COc2cncc3nnc(-c4ccc(Cl)cc4)n23)cc1\", \n",
    "             \"FC(F)(COc1cncc2nnc(-c3ccc(Cl)cc3)n12)c1ccccc1\", \n",
    "             \"N#Cc1cccc(CCOc2cncc3nnc(-c4ccc(C(F)(F)F)cc4)n23)c1\",\n",
    "             \"FC(F)Oc1ccc(-c2nnc3cncc(OCCc4cccc(C(F)(F)F)c4)n23)cc1\",\n",
    "             \"Fc1ccc(-c2nnc3cncc(OCCc4ccc5ccccc5c4)n23)cc1F\",\n",
    "             \"COc1cc(-c2nnc3cncc(OCCc4cccc(F)c4)n23)ccc1OC(F)F\",\n",
    "             \"FC(F)(COc1cncc2nnc(-c3ccc(Cl)cc3Cl)n12)c1ccccc1\",\n",
    "             \"FC(F)(F)Oc1ccc(-c2nnc3cncc(OCCc4ccc(C(F)(F)F)nc4)n23)cc1\",\n",
    "             \"FC(F)(F)Oc1ccc(-c2nnc3cncc(OCC4CCCO4)n23)cc1\",\n",
    "             \"CC(=O)OC1=CC=CC=C1C(=O)O\",\n",
    "             \"*c1cncc2nnc(C3=CC=CC=C3)n12\",\n",
    "             \"CC1=CC=C(C=C1)c1nnc2cncc(*)n12\"\n",
    "            ]\n",
    "\n",
    "#substructures of interest:\n",
    "#max substructure identified in previous step\n",
    "pattern_maxsubstr = \"[#6](-[#8]-[#6]1:[#6]:[#7]:[#6]:[#6]2:[#7]:1:[#6](:[#7]:[#7]:2)-[#6]1:[#6]:[#6]:[#6]:[#6]:[#6]:1)-[#6]-[#6]:,-[#6]:,-[#6]\"\n",
    "#Right Hand Side substituent with phenyl ring (any atom on left substituent)\n",
    "pattern_phenyl = \"[*]-c1cncc2nnc(-c3ccccc3)n12\"\n",
    "#RHS substituent with phenyl ring (any atom on left substituent) and para substituent on the RHS phenyl\n",
    "pattern_phenyl_para = \"[*]-c1ccc(cc1)-c1nnc2cncc(-[*])n12\"\n",
    "\n",
    "def search_structure(pattern):\n",
    "    for idx,smiles in enumerate(smiles_list):\n",
    "        m = Chem.MolFromSmarts(smiles)\n",
    "        print(\"Structure {}: pattern found {}\".format(idx+1,m.HasSubstructMatch(pattern)))\n",
    "\n",
    "search_structure(Chem.MolFromSmarts(pattern_maxsubstr))\n",
    "search_structure(Chem.MolFromSmarts(pattern_phenyl))\n",
    "search_structure(Chem.MolFromSmarts(pattern_phenyl_para))"
   ]
  },
  {
   "cell_type": "code",
   "execution_count": 6,
   "id": "1b4c8655",
   "metadata": {},
   "outputs": [
    {
     "name": "stdout",
     "output_type": "stream",
     "text": [
      "Structure 1: pattern found False\n",
      "Structure 2: pattern found False\n",
      "Structure 3: pattern found False\n",
      "Structure 4: pattern found False\n",
      "Structure 5: pattern found False\n",
      "Structure 6: pattern found False\n",
      "Structure 7: pattern found True\n",
      "Structure 8: pattern found False\n",
      "Structure 9: pattern found False\n",
      "Structure 10: pattern found False\n"
     ]
    }
   ],
   "source": [
    "#smiles list with chosen substructure on the RHS:\n",
    "smiles_list_chosen=[\n",
    "             \"Fc1cc(F)c(F)c(CCOc2cncc3nnc(-c4ccc(Cl)cc4)n23)c1\", #para EOS-0-00111\n",
    "             \"CCn1cc(-c2ccnc(-c3nnc4cncc(OCc5ccc(F)c(F)c5F)n34)c2)cn1\", #meta left heteroatom p2   \n",
    "             \"COc1cc(-c2nnc3cncc(OCCc4cccc(F)c4)n23)ccc1OC(F)F\", #meta and para right EOS-0-00650\n",
    "             \"Fc1ccc(-c2ccc(-c3nnc4cncc(OCc5cccnn5)n34)cc2Cl)c(F)n1\", #meta and para left EOS-2-04413\n",
    "             \"N#Cc1ccc(-c2nnc3cncc(Oc4ncnc(-c5ccc(F)c(F)c5)n4)n23)c(F)c1\", #ortho and para right EOS-08055\n",
    "             \"Cc1cc(-c2nnco2)cc(F)c1Oc1cncc2nnc(-c3ccc(F)c(F)c3F)n12\", #ortho meta para right EOS-2-11835\n",
    "             \"Fc1ccc(CCOc2cncc3nnc(-c4ccc5ccc(F)c(F)c5c4)n23)cn1\", #naphtalene EOS-0-01293\n",
    "             \"Cc1ncc(-c2cnc(-c3nnc4cncc(OCc5ccc(F)c(F)c5F)n34)cn2)cn1\", #para heteroatoms p2,5 EOS-2-00811\n",
    "             \"Fc1ccncc1-c1cncc(-c2nnc3cncc(OCCc4cncc(Cl)n4)n23)c1\", #meta R heteroatom p2, EOS-2-03026\n",
    "             \"Cc1ccc(-c2cc(-c3nnc4cncc(OCc5ccc(F)c(Cl)c5)n34)[nH]n2)c(F)n1\" #not benzene\n",
    "            ]\n",
    "\n",
    "#substructures of interest:\n",
    "#Right Hand Side substituent with phenyl ring containing heteroatoms\n",
    "pattern_heteroaryl = \"*-c1cncc2nnc(n12)-[*]:1:[*]:[*]:[*]:[*]:[*]:1\"\n",
    "\n",
    "#RHS substituent with phenyl ring (no heteroatoms)\n",
    "pattern_phenyl = \"[*]-c1cncc2nnc(-c3ccccc3)n12\"\n",
    "\n",
    "#RHS substituent with phenyl ring (with heteroatoms) and para substituent on the RHS phenyl\n",
    "pattern_heteroaryl_para = \"*-c1cncc2nnc(n12)-[*]:1:[*]:c:[*](-[*]):[*]:[*]:1\"\n",
    "\n",
    "#RHS substituent with phenyl ring (with heteroatoms) and para substituent on the RHS phenyl\n",
    "pattern_heteroaryl_meta = \"*-c1cncc2nnc(n12)-[*]:1:[*]:[*]:[*]:[*](-[*]):[*]:1\"\n",
    "\n",
    "#RHS substituent with phenyl ring (with heteroatoms) and para substituent on the RHS phenyl\n",
    "pattern_heteroaryl_orto = \"*-c1cncc2nnc(n12)-[*]:1:[*]:[*]:[*]:[*]:[*]:1-[*]\"\n",
    "\n",
    "#RHS substituent with a napthalene \n",
    "pattern_naphthalene = \"[*]-c1cncc2nnc(-c3ccc4ccccc4c3)n12\"\n",
    "\n",
    "def search_structure(pattern):\n",
    "    for idx,smiles in enumerate(smiles_list_chosen):\n",
    "        m = Chem.MolFromSmarts(smiles)\n",
    "        print(\"Structure {}: pattern found {}\".format(idx+1,m.HasSubstructMatch(pattern)))\n",
    "\n",
    "search_structure(Chem.MolFromSmarts(pattern_naphthalene))\n",
    "\n",
    "#1 para EOS-0-00111\n",
    "#2 meta left heteroatom p2   \n",
    "#3 meta and para right EOS-0-00650\n",
    "#4 meta and para left EOS-2-04413\n",
    "#5 ortho and para right EOS-08055\n",
    "#6 ortho meta para right EOS-2-11835\n",
    "#7 naphthalene EOS-0-01293\n",
    "#8 para heteroatoms p2,5 EOS-2-00811\n",
    "#9 meta R heteroatom p2, EOS-2-03026\n",
    "#10 not benzene\n"
   ]
  },
  {
   "cell_type": "markdown",
   "id": "5ab0b339",
   "metadata": {},
   "source": [
    "### Add columns of interest to results excel sheet"
   ]
  },
  {
   "cell_type": "code",
   "execution_count": 7,
   "id": "557bee3b",
   "metadata": {},
   "outputs": [],
   "source": [
    "df = pd.read_csv(\"../postprocess/210530_EOSI_OSM_Series4_1000.csv\")\n",
    "smiles=df[\"Smiles\"].tolist()\n",
    "\n",
    "new_list=[]\n",
    "def substructure(pattern):\n",
    "    new_list.clear()\n",
    "    for smi in smiles:\n",
    "        mol=Chem.MolFromSmarts(smi)\n",
    "        substr=mol.HasSubstructMatch(pattern)\n",
    "        if substr == True:\n",
    "            value = 1\n",
    "        else:\n",
    "            value = 0\n",
    "        new_list.append(value)\n",
    "    return new_list\n",
    "\n",
    "substructure(Chem.MolFromSmarts(pattern_heteroaryl))\n",
    "df[\"Heteroaryl\"]=new_list\n",
    "substructure(Chem.MolFromSmarts(pattern_phenyl))\n",
    "df[\"Phenyl\"]=new_list\n",
    "substructure(Chem.MolFromSmarts(pattern_heteroaryl_para))\n",
    "df[\"Para\"]=new_list\n",
    "substructure(Chem.MolFromSmarts(pattern_heteroaryl_meta))\n",
    "df[\"Meta\"]=new_list\n",
    "substructure(Chem.MolFromSmarts(pattern_heteroaryl_orto))\n",
    "df[\"Orto\"]=new_list\n",
    "\n",
    "\n",
    "df.to_csv(\"../postprocess/210530_EOSI_OSM_Series4_1000_substr.csv\", index=False)\n"
   ]
  }
 ],
 "metadata": {
  "kernelspec": {
   "display_name": "Python 3",
   "language": "python",
   "name": "python3"
  },
  "language_info": {
   "codemirror_mode": {
    "name": "ipython",
    "version": 3
   },
   "file_extension": ".py",
   "mimetype": "text/x-python",
   "name": "python",
   "nbconvert_exporter": "python",
   "pygments_lexer": "ipython3",
   "version": "3.7.10"
  }
 },
 "nbformat": 4,
 "nbformat_minor": 5
}
