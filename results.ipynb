{
 "cells": [
  {
   "cell_type": "code",
   "execution_count": 5,
   "id": "72799673",
   "metadata": {},
   "outputs": [],
   "source": [
    "import os\n",
    "import pandas as pd\n",
    "import numpy as np\n",
    "from rdkit import DataStructs\n",
    "from rdkit.Chem import MolFromSmiles\n",
    "from rdkit.Chem import PandasTools\n",
    "from rdkit.Chem.Fingerprints import FingerprintMols\n",
    "from rdkit.Chem.Descriptors import MolWt\n",
    "from rdkit.Chem.inchi import MolToInchiKey"
   ]
  },
  {
   "cell_type": "code",
   "execution_count": 8,
   "id": "9b4ff869",
   "metadata": {},
   "outputs": [],
   "source": [
    "def process_results(file):\n",
    "    # read data\n",
    "    df = pd.read_csv(results_file) \n",
    "    #create eos_id\n",
    "    num=[f\"{i:04}\" for i in range(len(df))]\n",
    "    prefix=\"EOS-\"\n",
    "    batch=str(batchnum)\n",
    "    eos_id=[prefix + batch +\"-\" + x for x in num]\n",
    "    df[\"eosID\"]=eos_id\n",
    "    #add inchikey identifier\n",
    "    inchikeys=[]\n",
    "    smiles = [x for x in df['SMILES']]\n",
    "    for smi in smiles:\n",
    "        inchikey=MolToInchiKey(MolFromSmiles(smi))\n",
    "        inchikeys += [inchikey]\n",
    "    df[\"InchiKey\"]=inchikeys \n",
    "    #add molecular weight\n",
    "    molweights=[]\n",
    "    smiles = [x for x in df['SMILES']]\n",
    "    for smi in smiles:\n",
    "        molweight=MolWt(MolFromSmiles(smi))\n",
    "        molweights += [molweight]\n",
    "    df[\"MW\"]=molweights\n",
    "    #add batch of generation \n",
    "    batch=int(results.split(\"results_\")[-1])\n",
    "    df[\"Batch\"]=batch\n",
    "    #drop undesired columns\n",
    "    df=df.drop(columns=[\"Cluster\",\"ID\", \"job_name\"])\n",
    "    df=df[[\"eosID\",\"SMILES\",\"InchiKey\",\"Scaffold\",\"MW\",\"Batch\",\"total_score\",\"ActivityRegression\",\"ActivityClassification\",\"Series4Similarity\",\"MatchActiveSubstr\",\"RestrictedSubstructure\",\"SLogP\",\"QED\",\"SAScore\",\"RAScore\"]]\n",
    "    return df\n",
    "\n",
    "def analyze_results(file):\n",
    "    df=pd.read_csv(file)\n",
    "    #check if structres are repeated within the file\n",
    "    if df[\"SMILES\"].duplicated().any() == True:\n",
    "        print(\"Duplicated Smiles\")\n",
    "    if df[\"InchiKey\"].duplicated().any() == True:\n",
    "        print(\"Duplicated Inchikey\")\n",
    "    if df[\"Scaffold\"].duplicated().any() == True:\n",
    "        print(\"Duplicated Scaffold\")\n",
    "    else:\n",
    "        print(\"no duplicated compounds in batch{}\".format(str(batchnum)))   \n",
    "    #check if there are duplicates with original compounds\n",
    "    original=pd.read_csv(\"../osm-series4/data/all_smiles.csv\", header=None)\n",
    "    old_smiles=original[0].tolist()\n",
    "    new_smiles=df[\"SMILES\"].tolist()\n",
    "    duplicates=list(set(old_smiles).intersection(new_smiles))\n",
    "    if not duplicates:\n",
    "        print(\"there are no repeated smiles from original dataset\")\n",
    "    else:\n",
    "        print(str(len(duplicates))+\" SMILES will be eliminated from processed results{}\".format(str(batchnum)))\n",
    "        cleaned_df=df[~df[\"SMILES\"].isin(original[0])]\n",
    "    return cleaned_df  "
   ]
  },
  {
   "cell_type": "code",
   "execution_count": 7,
   "id": "60d416e1",
   "metadata": {},
   "outputs": [
    {
     "ename": "KeyError",
     "evalue": "\"['MatchActiveSubstr', 'ActivityClassification', 'ActivityRegression', 'SLogP', 'SAScore', 'RAScore', 'Series4Similarity', 'QED'] not in index\"",
     "output_type": "error",
     "traceback": [
      "\u001b[1;31m---------------------------------------------------------------------------\u001b[0m",
      "\u001b[1;31mKeyError\u001b[0m                                  Traceback (most recent call last)",
      "\u001b[1;32m<ipython-input-7-1a4a8540d86d>\u001b[0m in \u001b[0;36m<module>\u001b[1;34m\u001b[0m\n\u001b[0;32m      4\u001b[0m         \u001b[0mbatchnum\u001b[0m\u001b[1;33m=\u001b[0m\u001b[0mint\u001b[0m\u001b[1;33m(\u001b[0m\u001b[0mresults\u001b[0m\u001b[1;33m.\u001b[0m\u001b[0msplit\u001b[0m\u001b[1;33m(\u001b[0m\u001b[1;34m\"results_\"\u001b[0m\u001b[1;33m)\u001b[0m\u001b[1;33m[\u001b[0m\u001b[1;33m-\u001b[0m\u001b[1;36m1\u001b[0m\u001b[1;33m]\u001b[0m\u001b[1;33m)\u001b[0m\u001b[1;33m\u001b[0m\u001b[1;33m\u001b[0m\u001b[0m\n\u001b[0;32m      5\u001b[0m         \u001b[0mresults_file\u001b[0m\u001b[1;33m=\u001b[0m\u001b[0mos\u001b[0m\u001b[1;33m.\u001b[0m\u001b[0mpath\u001b[0m\u001b[1;33m.\u001b[0m\u001b[0mjoin\u001b[0m\u001b[1;33m(\u001b[0m\u001b[0mDATA_PATH\u001b[0m\u001b[1;33m,\u001b[0m \u001b[0mresults\u001b[0m\u001b[1;33m,\u001b[0m \u001b[1;34m\"scaffold_memory.csv\"\u001b[0m\u001b[1;33m)\u001b[0m\u001b[1;33m\u001b[0m\u001b[1;33m\u001b[0m\u001b[0m\n\u001b[1;32m----> 6\u001b[1;33m         \u001b[0mdf\u001b[0m\u001b[1;33m=\u001b[0m\u001b[0mprocess_results\u001b[0m\u001b[1;33m(\u001b[0m\u001b[0mresults_file\u001b[0m\u001b[1;33m)\u001b[0m\u001b[1;33m\u001b[0m\u001b[1;33m\u001b[0m\u001b[0m\n\u001b[0m\u001b[0;32m      7\u001b[0m         \u001b[0mdf\u001b[0m\u001b[1;33m.\u001b[0m\u001b[0mto_csv\u001b[0m\u001b[1;33m(\u001b[0m\u001b[0mos\u001b[0m\u001b[1;33m.\u001b[0m\u001b[0mpath\u001b[0m\u001b[1;33m.\u001b[0m\u001b[0mjoin\u001b[0m\u001b[1;33m(\u001b[0m\u001b[0mDATA_PATH\u001b[0m\u001b[1;33m,\u001b[0m \u001b[1;34m\"processed_results\"\u001b[0m\u001b[1;33m,\u001b[0m \u001b[1;34m\"processed{}.csv\"\u001b[0m\u001b[1;33m.\u001b[0m\u001b[0mformat\u001b[0m\u001b[1;33m(\u001b[0m\u001b[0mbatchnum\u001b[0m\u001b[1;33m)\u001b[0m\u001b[1;33m)\u001b[0m\u001b[1;33m,\u001b[0m\u001b[0mindex\u001b[0m\u001b[1;33m=\u001b[0m\u001b[1;32mFalse\u001b[0m\u001b[1;33m)\u001b[0m\u001b[1;33m\u001b[0m\u001b[1;33m\u001b[0m\u001b[0m\n\u001b[0;32m      8\u001b[0m \u001b[1;32mfor\u001b[0m \u001b[0mfile\u001b[0m \u001b[1;32min\u001b[0m \u001b[0mos\u001b[0m\u001b[1;33m.\u001b[0m\u001b[0mlistdir\u001b[0m\u001b[1;33m(\u001b[0m\u001b[0mos\u001b[0m\u001b[1;33m.\u001b[0m\u001b[0mpath\u001b[0m\u001b[1;33m.\u001b[0m\u001b[0mjoin\u001b[0m\u001b[1;33m(\u001b[0m\u001b[0mDATA_PATH\u001b[0m\u001b[1;33m,\u001b[0m \u001b[1;34m\"processed_results\"\u001b[0m\u001b[1;33m)\u001b[0m\u001b[1;33m)\u001b[0m\u001b[1;33m:\u001b[0m\u001b[1;33m\u001b[0m\u001b[1;33m\u001b[0m\u001b[0m\n",
      "\u001b[1;32m<ipython-input-6-e456a5a6d320>\u001b[0m in \u001b[0;36mprocess_results\u001b[1;34m(file)\u001b[0m\n\u001b[0;32m     27\u001b[0m     \u001b[1;31m#drop undesired columns\u001b[0m\u001b[1;33m\u001b[0m\u001b[1;33m\u001b[0m\u001b[1;33m\u001b[0m\u001b[0m\n\u001b[0;32m     28\u001b[0m     \u001b[0mdf\u001b[0m\u001b[1;33m=\u001b[0m\u001b[0mdf\u001b[0m\u001b[1;33m.\u001b[0m\u001b[0mdrop\u001b[0m\u001b[1;33m(\u001b[0m\u001b[0mcolumns\u001b[0m\u001b[1;33m=\u001b[0m\u001b[1;33m[\u001b[0m\u001b[1;34m\"Cluster\"\u001b[0m\u001b[1;33m,\u001b[0m\u001b[1;34m\"ID\"\u001b[0m\u001b[1;33m,\u001b[0m \u001b[1;34m\"job_name\"\u001b[0m\u001b[1;33m]\u001b[0m\u001b[1;33m)\u001b[0m\u001b[1;33m\u001b[0m\u001b[1;33m\u001b[0m\u001b[0m\n\u001b[1;32m---> 29\u001b[1;33m     \u001b[0mdf\u001b[0m\u001b[1;33m=\u001b[0m\u001b[0mdf\u001b[0m\u001b[1;33m[\u001b[0m\u001b[1;33m[\u001b[0m\u001b[1;34m\"eosID\"\u001b[0m\u001b[1;33m,\u001b[0m\u001b[1;34m\"SMILES\"\u001b[0m\u001b[1;33m,\u001b[0m\u001b[1;34m\"InchiKey\"\u001b[0m\u001b[1;33m,\u001b[0m\u001b[1;34m\"Scaffold\"\u001b[0m\u001b[1;33m,\u001b[0m\u001b[1;34m\"MW\"\u001b[0m\u001b[1;33m,\u001b[0m\u001b[1;34m\"Batch\"\u001b[0m\u001b[1;33m,\u001b[0m\u001b[1;34m\"total_score\"\u001b[0m\u001b[1;33m,\u001b[0m\u001b[1;34m\"ActivityRegression\"\u001b[0m\u001b[1;33m,\u001b[0m\u001b[1;34m\"ActivityClassification\"\u001b[0m\u001b[1;33m,\u001b[0m\u001b[1;34m\"Series4Similarity\"\u001b[0m\u001b[1;33m,\u001b[0m\u001b[1;34m\"MatchActiveSubstr\"\u001b[0m\u001b[1;33m,\u001b[0m\u001b[1;34m\"RestrictedSubstructure\"\u001b[0m\u001b[1;33m,\u001b[0m\u001b[1;34m\"SLogP\"\u001b[0m\u001b[1;33m,\u001b[0m\u001b[1;34m\"QED\"\u001b[0m\u001b[1;33m,\u001b[0m\u001b[1;34m\"SAScore\"\u001b[0m\u001b[1;33m,\u001b[0m\u001b[1;34m\"RAScore\"\u001b[0m\u001b[1;33m]\u001b[0m\u001b[1;33m]\u001b[0m\u001b[1;33m\u001b[0m\u001b[1;33m\u001b[0m\u001b[0m\n\u001b[0m\u001b[0;32m     30\u001b[0m     \u001b[1;32mreturn\u001b[0m \u001b[0mdf\u001b[0m\u001b[1;33m\u001b[0m\u001b[1;33m\u001b[0m\u001b[0m\n\u001b[0;32m     31\u001b[0m \u001b[1;33m\u001b[0m\u001b[0m\n",
      "\u001b[1;32m~\\Anaconda3\\envs\\malariaOSM\\lib\\site-packages\\pandas\\core\\frame.py\u001b[0m in \u001b[0;36m__getitem__\u001b[1;34m(self, key)\u001b[0m\n\u001b[0;32m   3028\u001b[0m             \u001b[1;32mif\u001b[0m \u001b[0mis_iterator\u001b[0m\u001b[1;33m(\u001b[0m\u001b[0mkey\u001b[0m\u001b[1;33m)\u001b[0m\u001b[1;33m:\u001b[0m\u001b[1;33m\u001b[0m\u001b[1;33m\u001b[0m\u001b[0m\n\u001b[0;32m   3029\u001b[0m                 \u001b[0mkey\u001b[0m \u001b[1;33m=\u001b[0m \u001b[0mlist\u001b[0m\u001b[1;33m(\u001b[0m\u001b[0mkey\u001b[0m\u001b[1;33m)\u001b[0m\u001b[1;33m\u001b[0m\u001b[1;33m\u001b[0m\u001b[0m\n\u001b[1;32m-> 3030\u001b[1;33m             \u001b[0mindexer\u001b[0m \u001b[1;33m=\u001b[0m \u001b[0mself\u001b[0m\u001b[1;33m.\u001b[0m\u001b[0mloc\u001b[0m\u001b[1;33m.\u001b[0m\u001b[0m_get_listlike_indexer\u001b[0m\u001b[1;33m(\u001b[0m\u001b[0mkey\u001b[0m\u001b[1;33m,\u001b[0m \u001b[0maxis\u001b[0m\u001b[1;33m=\u001b[0m\u001b[1;36m1\u001b[0m\u001b[1;33m,\u001b[0m \u001b[0mraise_missing\u001b[0m\u001b[1;33m=\u001b[0m\u001b[1;32mTrue\u001b[0m\u001b[1;33m)\u001b[0m\u001b[1;33m[\u001b[0m\u001b[1;36m1\u001b[0m\u001b[1;33m]\u001b[0m\u001b[1;33m\u001b[0m\u001b[1;33m\u001b[0m\u001b[0m\n\u001b[0m\u001b[0;32m   3031\u001b[0m \u001b[1;33m\u001b[0m\u001b[0m\n\u001b[0;32m   3032\u001b[0m         \u001b[1;31m# take() does not accept boolean indexers\u001b[0m\u001b[1;33m\u001b[0m\u001b[1;33m\u001b[0m\u001b[1;33m\u001b[0m\u001b[0m\n",
      "\u001b[1;32m~\\Anaconda3\\envs\\malariaOSM\\lib\\site-packages\\pandas\\core\\indexing.py\u001b[0m in \u001b[0;36m_get_listlike_indexer\u001b[1;34m(self, key, axis, raise_missing)\u001b[0m\n\u001b[0;32m   1264\u001b[0m             \u001b[0mkeyarr\u001b[0m\u001b[1;33m,\u001b[0m \u001b[0mindexer\u001b[0m\u001b[1;33m,\u001b[0m \u001b[0mnew_indexer\u001b[0m \u001b[1;33m=\u001b[0m \u001b[0max\u001b[0m\u001b[1;33m.\u001b[0m\u001b[0m_reindex_non_unique\u001b[0m\u001b[1;33m(\u001b[0m\u001b[0mkeyarr\u001b[0m\u001b[1;33m)\u001b[0m\u001b[1;33m\u001b[0m\u001b[1;33m\u001b[0m\u001b[0m\n\u001b[0;32m   1265\u001b[0m \u001b[1;33m\u001b[0m\u001b[0m\n\u001b[1;32m-> 1266\u001b[1;33m         \u001b[0mself\u001b[0m\u001b[1;33m.\u001b[0m\u001b[0m_validate_read_indexer\u001b[0m\u001b[1;33m(\u001b[0m\u001b[0mkeyarr\u001b[0m\u001b[1;33m,\u001b[0m \u001b[0mindexer\u001b[0m\u001b[1;33m,\u001b[0m \u001b[0maxis\u001b[0m\u001b[1;33m,\u001b[0m \u001b[0mraise_missing\u001b[0m\u001b[1;33m=\u001b[0m\u001b[0mraise_missing\u001b[0m\u001b[1;33m)\u001b[0m\u001b[1;33m\u001b[0m\u001b[1;33m\u001b[0m\u001b[0m\n\u001b[0m\u001b[0;32m   1267\u001b[0m         \u001b[1;32mreturn\u001b[0m \u001b[0mkeyarr\u001b[0m\u001b[1;33m,\u001b[0m \u001b[0mindexer\u001b[0m\u001b[1;33m\u001b[0m\u001b[1;33m\u001b[0m\u001b[0m\n\u001b[0;32m   1268\u001b[0m \u001b[1;33m\u001b[0m\u001b[0m\n",
      "\u001b[1;32m~\\Anaconda3\\envs\\malariaOSM\\lib\\site-packages\\pandas\\core\\indexing.py\u001b[0m in \u001b[0;36m_validate_read_indexer\u001b[1;34m(self, key, indexer, axis, raise_missing)\u001b[0m\n\u001b[0;32m   1314\u001b[0m             \u001b[1;32mif\u001b[0m \u001b[0mraise_missing\u001b[0m\u001b[1;33m:\u001b[0m\u001b[1;33m\u001b[0m\u001b[1;33m\u001b[0m\u001b[0m\n\u001b[0;32m   1315\u001b[0m                 \u001b[0mnot_found\u001b[0m \u001b[1;33m=\u001b[0m \u001b[0mlist\u001b[0m\u001b[1;33m(\u001b[0m\u001b[0mset\u001b[0m\u001b[1;33m(\u001b[0m\u001b[0mkey\u001b[0m\u001b[1;33m)\u001b[0m \u001b[1;33m-\u001b[0m \u001b[0mset\u001b[0m\u001b[1;33m(\u001b[0m\u001b[0max\u001b[0m\u001b[1;33m)\u001b[0m\u001b[1;33m)\u001b[0m\u001b[1;33m\u001b[0m\u001b[1;33m\u001b[0m\u001b[0m\n\u001b[1;32m-> 1316\u001b[1;33m                 \u001b[1;32mraise\u001b[0m \u001b[0mKeyError\u001b[0m\u001b[1;33m(\u001b[0m\u001b[1;34mf\"{not_found} not in index\"\u001b[0m\u001b[1;33m)\u001b[0m\u001b[1;33m\u001b[0m\u001b[1;33m\u001b[0m\u001b[0m\n\u001b[0m\u001b[0;32m   1317\u001b[0m \u001b[1;33m\u001b[0m\u001b[0m\n\u001b[0;32m   1318\u001b[0m             \u001b[0mnot_found\u001b[0m \u001b[1;33m=\u001b[0m \u001b[0mkey\u001b[0m\u001b[1;33m[\u001b[0m\u001b[0mmissing_mask\u001b[0m\u001b[1;33m]\u001b[0m\u001b[1;33m\u001b[0m\u001b[1;33m\u001b[0m\u001b[0m\n",
      "\u001b[1;31mKeyError\u001b[0m: \"['MatchActiveSubstr', 'ActivityClassification', 'ActivityRegression', 'SLogP', 'SAScore', 'RAScore', 'Series4Similarity', 'QED'] not in index\""
     ]
    }
   ],
   "source": [
    "DATA_PATH=\"data\"\n",
    "for results in os.listdir(DATA_PATH):\n",
    "    if \"results_\" in results:\n",
    "        batchnum=int(results.split(\"results_\")[-1])\n",
    "        results_file=os.path.join(DATA_PATH, results, \"scaffold_memory.csv\")\n",
    "        df=process_results(results_file)\n",
    "        df.to_csv(os.path.join(DATA_PATH, \"processed_results\", \"processed{}.csv\".format(batchnum)),index=False)\n",
    "for file in os.listdir(os.path.join(DATA_PATH, \"processed_results\")):\n",
    "    if \"processed\" in file:\n",
    "        batchnum=file.split(\"processed\")[-1]\n",
    "        batchnum=int(batchnum.strip(\".csv\"))\n",
    "        processed_file=os.path.join(DATA_PATH, \"processed_results\", file)\n",
    "        clean_df=analyze_results(processed_file)\n",
    "        clean_df.to_csv(os.path.join(DATA_PATH, \"processed_results\", \"cleaned{}.csv\".format(batchnum)),index=False)\n",
    "all_batches_dict={}\n",
    "for file in os.listdir(os.path.join(DATA_PATH, \"processed_results\")):\n",
    "    if \"cleaned\" in file:\n",
    "        batchnum=file.split(\"cleaned\")[-1]\n",
    "        batchnum=int(batchnum.strip(\".csv\"))\n",
    "        cleaned_file=pd.read_csv(os.path.join(DATA_PATH, \"processed_results\", file))\n",
    "        all_batches_dict[batchnum]=cleaned_file\n",
    "all_batches_df = pd.concat([df for df in all_batches_dict.values()], ignore_index=True)\n",
    "all_batches_df=all_batches_df.drop_duplicates(subset=\"InchiKey\")\n",
    "all_batches_df.to_csv(os.path.join(DATA_PATH, \"processed_results\", \"all_batches.csv\"), index=False)"
   ]
  },
  {
   "cell_type": "code",
   "execution_count": 4,
   "id": "cc554db1",
   "metadata": {},
   "outputs": [
    {
     "name": "stdout",
     "output_type": "stream",
     "text": [
      "[0.9642857142857143, 0.959349593495935, 0.944331983805668, 0.9359756097560976, 0.9168316831683169, 0.9230769230769231, 0.93687374749499, 0.9603340292275574, 0.9711934156378601, 0.9292123629112662]\n"
     ]
    },
    {
     "data": {
      "text/plain": [
       "(array([  12.,    0.,   12.,  202.,  970.,  632., 1406., 3591., 2863.,\n",
       "         312.]),\n",
       " array([0.38049144, 0.44152766, 0.50256388, 0.5636001 , 0.62463633,\n",
       "        0.68567255, 0.74670877, 0.80774499, 0.86878121, 0.92981744,\n",
       "        0.99085366]),\n",
       " <BarContainer object of 10 artists>)"
      ]
     },
     "execution_count": 4,
     "metadata": {},
     "output_type": "execute_result"
    },
    {
     "data": {
      "image/png": "[encoded data removed]",
      "text/plain": [
       "<Figure size 432x288 with 1 Axes>"
      ]
     },
     "metadata": {
      "needs_background": "light"
     },
     "output_type": "display_data"
    }
   ],
   "source": [
    "%matplotlib inline\n",
    "import matplotlib.pyplot as plt\n",
    "\n",
    "df=pd.read_csv(os.path.join(DATA_PATH,\"processed_results\", \"all_batches.csv\"))\n",
    "\n",
    "smiles_list = [x for x in df['SMILES']] #obtain list of smiles\n",
    "mols_list=[MolFromSmiles(x) for x in smiles_list] #create list of mols\n",
    "fps_list=[FingerprintMols.FingerprintMol(x) for x in mols_list] #create list of fingerprints\n",
    "\n",
    "query, target, sim = [] , [], [] #create empty lists for query molecule, comparison molecule and similarity value\n",
    "\n",
    "for fp in range(len(fps_list)-1):\n",
    "    similarity= DataStructs.BulkTanimotoSimilarity(fps_list[fp], fps_list[fp+1:])\n",
    "    for s in range(len(similarity)):\n",
    "        query.append(smiles_list[fp])\n",
    "        target.append(smiles_list[fp+1:][s])\n",
    "        sim.append(similarity[s])\n",
    "d = {'query':query, 'target':target, 'similarity':sim}\n",
    "df_sim = pd.DataFrame(data=d)\n",
    "        \n",
    "        \n",
    "print(sim[:10])\n",
    "plt.hist(sim[:10000])"
   ]
  },
  {
   "cell_type": "code",
   "execution_count": 53,
   "id": "d6af7dcb",
   "metadata": {},
   "outputs": [],
   "source": [
    "df=pd.read_csv(os.path.join(DATA_PATH,\"processed_results\", \"all_batches.csv\"))\n",
    "\n",
    "PandasTools.AddMoleculeColumnToFrame(df, \"SMILES\")"
   ]
  },
  {
   "cell_type": "markdown",
   "id": "c2fb0c0b",
   "metadata": {},
   "source": [
    "### batch 02"
   ]
  },
  {
   "cell_type": "code",
   "execution_count": 12,
   "id": "d77884ca",
   "metadata": {},
   "outputs": [
    {
     "name": "stdout",
     "output_type": "stream",
     "text": [
      "Duplicated Inchikey\n",
      "Duplicated Scaffold\n",
      "4 SMILES will be eliminated from processed results2\n",
      "Duplicated Inchikey\n",
      "Duplicated Scaffold\n",
      "there are no repeated smiles from original dataset\n"
     ]
    },
    {
     "ename": "UnboundLocalError",
     "evalue": "local variable 'cleaned_df' referenced before assignment",
     "output_type": "error",
     "traceback": [
      "\u001b[1;31m---------------------------------------------------------------------------\u001b[0m",
      "\u001b[1;31mUnboundLocalError\u001b[0m                         Traceback (most recent call last)",
      "\u001b[1;32m<ipython-input-12-75598a48c1f1>\u001b[0m in \u001b[0;36m<module>\u001b[1;34m\u001b[0m\n\u001b[0;32m     65\u001b[0m         \u001b[0mbatchnum\u001b[0m\u001b[1;33m=\u001b[0m\u001b[0mint\u001b[0m\u001b[1;33m(\u001b[0m\u001b[0mbatchnum\u001b[0m\u001b[1;33m.\u001b[0m\u001b[0mstrip\u001b[0m\u001b[1;33m(\u001b[0m\u001b[1;34m\".csv\"\u001b[0m\u001b[1;33m)\u001b[0m\u001b[1;33m)\u001b[0m\u001b[1;33m\u001b[0m\u001b[1;33m\u001b[0m\u001b[0m\n\u001b[0;32m     66\u001b[0m         \u001b[0mprocessed_file\u001b[0m\u001b[1;33m=\u001b[0m\u001b[0mos\u001b[0m\u001b[1;33m.\u001b[0m\u001b[0mpath\u001b[0m\u001b[1;33m.\u001b[0m\u001b[0mjoin\u001b[0m\u001b[1;33m(\u001b[0m\u001b[0mDATA_PATH\u001b[0m\u001b[1;33m,\u001b[0m \u001b[1;34m\"processed_results\"\u001b[0m\u001b[1;33m,\u001b[0m \u001b[0mfile\u001b[0m\u001b[1;33m)\u001b[0m\u001b[1;33m\u001b[0m\u001b[1;33m\u001b[0m\u001b[0m\n\u001b[1;32m---> 67\u001b[1;33m         \u001b[0mclean_df\u001b[0m\u001b[1;33m=\u001b[0m\u001b[0manalyze_results\u001b[0m\u001b[1;33m(\u001b[0m\u001b[0mprocessed_file\u001b[0m\u001b[1;33m)\u001b[0m\u001b[1;33m\u001b[0m\u001b[1;33m\u001b[0m\u001b[0m\n\u001b[0m\u001b[0;32m     68\u001b[0m         \u001b[0mclean_df\u001b[0m\u001b[1;33m.\u001b[0m\u001b[0mto_csv\u001b[0m\u001b[1;33m(\u001b[0m\u001b[0mos\u001b[0m\u001b[1;33m.\u001b[0m\u001b[0mpath\u001b[0m\u001b[1;33m.\u001b[0m\u001b[0mjoin\u001b[0m\u001b[1;33m(\u001b[0m\u001b[0mDATA_PATH\u001b[0m\u001b[1;33m,\u001b[0m \u001b[1;34m\"processed_results\"\u001b[0m\u001b[1;33m,\u001b[0m \u001b[1;34m\"cleaned{}.csv\"\u001b[0m\u001b[1;33m.\u001b[0m\u001b[0mformat\u001b[0m\u001b[1;33m(\u001b[0m\u001b[0mbatchnum\u001b[0m\u001b[1;33m)\u001b[0m\u001b[1;33m)\u001b[0m\u001b[1;33m,\u001b[0m\u001b[0mindex\u001b[0m\u001b[1;33m=\u001b[0m\u001b[1;32mFalse\u001b[0m\u001b[1;33m)\u001b[0m\u001b[1;33m\u001b[0m\u001b[1;33m\u001b[0m\u001b[0m\n\u001b[0;32m     69\u001b[0m \u001b[0mall_batches_dict\u001b[0m\u001b[1;33m=\u001b[0m\u001b[1;33m{\u001b[0m\u001b[1;33m}\u001b[0m\u001b[1;33m\u001b[0m\u001b[1;33m\u001b[0m\u001b[0m\n",
      "\u001b[1;32m<ipython-input-12-75598a48c1f1>\u001b[0m in \u001b[0;36manalyze_results\u001b[1;34m(file)\u001b[0m\n\u001b[0;32m     51\u001b[0m         \u001b[0mprint\u001b[0m\u001b[1;33m(\u001b[0m\u001b[0mstr\u001b[0m\u001b[1;33m(\u001b[0m\u001b[0mlen\u001b[0m\u001b[1;33m(\u001b[0m\u001b[0mduplicates\u001b[0m\u001b[1;33m)\u001b[0m\u001b[1;33m)\u001b[0m\u001b[1;33m+\u001b[0m\u001b[1;34m\" SMILES will be eliminated from processed results{}\"\u001b[0m\u001b[1;33m.\u001b[0m\u001b[0mformat\u001b[0m\u001b[1;33m(\u001b[0m\u001b[0mstr\u001b[0m\u001b[1;33m(\u001b[0m\u001b[0mbatchnum\u001b[0m\u001b[1;33m)\u001b[0m\u001b[1;33m)\u001b[0m\u001b[1;33m)\u001b[0m\u001b[1;33m\u001b[0m\u001b[1;33m\u001b[0m\u001b[0m\n\u001b[0;32m     52\u001b[0m         \u001b[0mcleaned_df\u001b[0m\u001b[1;33m=\u001b[0m\u001b[0mdf\u001b[0m\u001b[1;33m[\u001b[0m\u001b[1;33m~\u001b[0m\u001b[0mdf\u001b[0m\u001b[1;33m[\u001b[0m\u001b[1;34m\"SMILES\"\u001b[0m\u001b[1;33m]\u001b[0m\u001b[1;33m.\u001b[0m\u001b[0misin\u001b[0m\u001b[1;33m(\u001b[0m\u001b[0moriginal\u001b[0m\u001b[1;33m[\u001b[0m\u001b[1;36m0\u001b[0m\u001b[1;33m]\u001b[0m\u001b[1;33m)\u001b[0m\u001b[1;33m]\u001b[0m\u001b[1;33m\u001b[0m\u001b[1;33m\u001b[0m\u001b[0m\n\u001b[1;32m---> 53\u001b[1;33m     \u001b[1;32mreturn\u001b[0m \u001b[0mcleaned_df\u001b[0m\u001b[1;33m\u001b[0m\u001b[1;33m\u001b[0m\u001b[0m\n\u001b[0m\u001b[0;32m     54\u001b[0m \u001b[1;33m\u001b[0m\u001b[0m\n\u001b[0;32m     55\u001b[0m \u001b[0mDATA_PATH\u001b[0m\u001b[1;33m=\u001b[0m\u001b[1;34m\"data/batch02\"\u001b[0m\u001b[1;33m\u001b[0m\u001b[1;33m\u001b[0m\u001b[0m\n",
      "\u001b[1;31mUnboundLocalError\u001b[0m: local variable 'cleaned_df' referenced before assignment"
     ]
    }
   ],
   "source": [
    "# read data\n",
    "def process_results(file):\n",
    "    df = pd.read_csv(results_file) \n",
    "    #create eos_id\n",
    "    num=[f\"{i:04}\" for i in range(len(df))]\n",
    "    prefix=\"EOS-\"\n",
    "    batch=str(batchnum)\n",
    "    eos_id=[prefix + batch +\"-\" + x for x in num]\n",
    "    df[\"eosID\"]=eos_id\n",
    "    #add inchikey identifier\n",
    "    inchikeys=[]\n",
    "    smiles = [x for x in df['SMILES']]\n",
    "    for smi in smiles:\n",
    "        inchikey=MolToInchiKey(MolFromSmiles(smi))\n",
    "        inchikeys += [inchikey]\n",
    "    df[\"InchiKey\"]=inchikeys \n",
    "    #add molecular weight\n",
    "    molweights=[]\n",
    "    smiles = [x for x in df['SMILES']]\n",
    "    for smi in smiles:\n",
    "        molweight=MolWt(MolFromSmiles(smi))\n",
    "        molweights += [molweight]\n",
    "    df[\"MW\"]=molweights\n",
    "    #add batch of generation \n",
    "    batch=int(results.split(\"results_\")[-1])\n",
    "    df[\"Batch\"]=batch\n",
    "    #drop undesired columns\n",
    "    df=df.drop(columns=[\"Cluster\",\"ID\", \"job_name\"])\n",
    "    df=df[[\"eosID\",\"SMILES\",\"InchiKey\",\"Scaffold\",\"MW\",\"Batch\",\"total_score\",\"MatchCoreSubstr\",\"RestrictedSubstructure\", \"MWt\"]]\n",
    "    return df\n",
    "\n",
    "def analyze_results(file):\n",
    "    df=pd.read_csv(file)\n",
    "    #check if structres are repeated within the file\n",
    "    if df[\"SMILES\"].duplicated().any() == True:\n",
    "        print(\"Duplicated Smiles\")\n",
    "    if df[\"InchiKey\"].duplicated().any() == True:\n",
    "        print(\"Duplicated Inchikey\")\n",
    "    if df[\"Scaffold\"].duplicated().any() == True:\n",
    "        print(\"Duplicated Scaffold\")\n",
    "    else:\n",
    "        print(\"no duplicated compounds in batch{}\".format(str(batchnum)))   \n",
    "    #check if there are duplicates with original compounds\n",
    "    original=pd.read_csv(\"../osm-series4/data/all_smiles.csv\", header=None)\n",
    "    old_smiles=original[0].tolist()\n",
    "    new_smiles=df[\"SMILES\"].tolist()\n",
    "    duplicates=list(set(old_smiles).intersection(new_smiles))\n",
    "    if not duplicates:\n",
    "        print(\"there are no repeated smiles from original dataset\")\n",
    "    else:\n",
    "        print(str(len(duplicates))+\" SMILES will be eliminated from processed results{}\".format(str(batchnum)))\n",
    "        cleaned_df=df[~df[\"SMILES\"].isin(original[0])]\n",
    "    return cleaned_df  \n",
    "\n",
    "DATA_PATH=\"data/batch02\"\n",
    "for results in os.listdir(DATA_PATH):\n",
    "    if \"results_\" in results:\n",
    "        batchnum=int(results.split(\"results_\")[-1])\n",
    "        results_file=os.path.join(DATA_PATH, results, \"scaffold_memory.csv\")\n",
    "        df=process_results(results_file)\n",
    "        df.to_csv(os.path.join(DATA_PATH, \"processed_results\", \"processed{}.csv\".format(batchnum)),index=False)\n",
    "for file in os.listdir(os.path.join(DATA_PATH, \"processed_results\")):\n",
    "    if \"processed\" in file:\n",
    "        batchnum=file.split(\"processed\")[-1]\n",
    "        batchnum=int(batchnum.strip(\".csv\"))\n",
    "        processed_file=os.path.join(DATA_PATH, \"processed_results\", file)\n",
    "        clean_df=analyze_results(processed_file)\n",
    "        clean_df.to_csv(os.path.join(DATA_PATH, \"processed_results\", \"cleaned{}.csv\".format(batchnum)),index=False)\n",
    "all_batches_dict={}\n",
    "\"\"\"\n",
    "for file in os.listdir(os.path.join(DATA_PATH, \"processed_results\")):\n",
    "    if \"cleaned\" in file:\n",
    "        batchnum=file.split(\"cleaned\")[-1]\n",
    "        batchnum=int(batchnum.strip(\".csv\"))\n",
    "        cleaned_file=pd.read_csv(os.path.join(DATA_PATH, \"processed_results\", file))\n",
    "        all_batches_dict[batchnum]=cleaned_file\n",
    "all_batches_df = pd.concat([df for df in all_batches_dict.values()], ignore_index=True)\n",
    "all_batches_df=all_batches_df.drop_duplicates(subset=\"InchiKey\")\n",
    "all_batches_df.to_csv(os.path.join(DATA_PATH, \"processed_results\", \"all_batches.csv\"), index=False)\n",
    "\"\"\""
   ]
  },
  {
   "cell_type": "markdown",
   "id": "a99085c9",
   "metadata": {},
   "source": [
    "#### Batch 03"
   ]
  },
  {
   "cell_type": "code",
   "execution_count": 15,
   "id": "5c43006f",
   "metadata": {},
   "outputs": [
    {
     "name": "stdout",
     "output_type": "stream",
     "text": [
      "Duplicated Inchikey\n",
      "Duplicated Scaffold\n",
      "there are no repeated smiles from original dataset\n"
     ]
    },
    {
     "data": {
      "text/plain": [
       "'\\nfor file in os.listdir(os.path.join(DATA_PATH, \"processed_results\")):\\n    if \"cleaned\" in file:\\n        batchnum=file.split(\"cleaned\")[-1]\\n        batchnum=int(batchnum.strip(\".csv\"))\\n        cleaned_file=pd.read_csv(os.path.join(DATA_PATH, \"processed_results\", file))\\n        all_batches_dict[batchnum]=cleaned_file\\nall_batches_df = pd.concat([df for df in all_batches_dict.values()], ignore_index=True)\\nall_batches_df=all_batches_df.drop_duplicates(subset=\"InchiKey\")\\nall_batches_df.to_csv(os.path.join(DATA_PATH, \"processed_results\", \"all_batches.csv\"), index=False)\\n'"
      ]
     },
     "execution_count": 15,
     "metadata": {},
     "output_type": "execute_result"
    }
   ],
   "source": [
    "# read data\n",
    "def process_results(file):\n",
    "    df = pd.read_csv(results_file) \n",
    "    #create eos_id\n",
    "    num=[f\"{i:04}\" for i in range(len(df))]\n",
    "    prefix=\"EOS-\"\n",
    "    batch=str(batchnum)\n",
    "    eos_id=[prefix + batch +\"-\" + x for x in num]\n",
    "    df[\"eosID\"]=eos_id\n",
    "    #add inchikey identifier\n",
    "    inchikeys=[]\n",
    "    smiles = [x for x in df['SMILES']]\n",
    "    for smi in smiles:\n",
    "        inchikey=MolToInchiKey(MolFromSmiles(smi))\n",
    "        inchikeys += [inchikey]\n",
    "    df[\"InchiKey\"]=inchikeys \n",
    "    #add molecular weight\n",
    "    molweights=[]\n",
    "    smiles = [x for x in df['SMILES']]\n",
    "    for smi in smiles:\n",
    "        molweight=MolWt(MolFromSmiles(smi))\n",
    "        molweights += [molweight]\n",
    "    df[\"MW\"]=molweights\n",
    "    #add batch of generation \n",
    "    batch=int(results.split(\"results_\")[-1])\n",
    "    df[\"Batch\"]=batch\n",
    "    #drop undesired columns\n",
    "    df=df.drop(columns=[\"Cluster\",\"ID\", \"job_name\"])\n",
    "    df=df[[\"eosID\",\"SMILES\",\"InchiKey\",\"Scaffold\",\"MW\",\"Batch\",\"total_score\",\"MatchCoreSubstr\",\"RestrictedSubstructure\", \"MWt\", \"SLogP\",\"QED\",\"SAScore\",\"RAScore\"]]\n",
    "    return df\n",
    "\n",
    "def analyze_results(file):\n",
    "    df=pd.read_csv(file)\n",
    "    #check if structres are repeated within the file\n",
    "    if df[\"SMILES\"].duplicated().any() == True:\n",
    "        print(\"Duplicated Smiles\")\n",
    "    if df[\"InchiKey\"].duplicated().any() == True:\n",
    "        print(\"Duplicated Inchikey\")\n",
    "    if df[\"Scaffold\"].duplicated().any() == True:\n",
    "        print(\"Duplicated Scaffold\")\n",
    "    else:\n",
    "        print(\"no duplicated compounds in batch{}\".format(str(batchnum)))   \n",
    "    #check if there are duplicates with original compounds\n",
    "    original=pd.read_csv(\"../osm-series4/data/all_smiles.csv\", header=None)\n",
    "    old_smiles=original[0].tolist()\n",
    "    new_smiles=df[\"SMILES\"].tolist()\n",
    "    duplicates=list(set(old_smiles).intersection(new_smiles))\n",
    "    if not duplicates:\n",
    "        print(\"there are no repeated smiles from original dataset\")\n",
    "        return df\n",
    "    else:\n",
    "        print(str(len(duplicates))+\" SMILES will be eliminated from processed results{}\".format(str(batchnum)))\n",
    "        cleaned_df=df[~df[\"SMILES\"].isin(original[0])]\n",
    "        return cleaned_df  \n",
    "\n",
    "DATA_PATH=\"data/batch03\"\n",
    "for results in os.listdir(DATA_PATH):\n",
    "    if \"results_\" in results:\n",
    "        batchnum=int(results.split(\"results_\")[-1])\n",
    "        results_file=os.path.join(DATA_PATH, results, \"scaffold_memory.csv\")\n",
    "        df=process_results(results_file)\n",
    "        df.to_csv(os.path.join(DATA_PATH, \"processed_results\", \"processed{}.csv\".format(batchnum)),index=False)\n",
    "for file in os.listdir(os.path.join(DATA_PATH, \"processed_results\")):\n",
    "    if \"processed\" in file:\n",
    "        batchnum=file.split(\"processed\")[-1]\n",
    "        batchnum=int(batchnum.strip(\".csv\"))\n",
    "        processed_file=os.path.join(DATA_PATH, \"processed_results\", file)\n",
    "        clean_df=analyze_results(processed_file)\n",
    "        clean_df.to_csv(os.path.join(DATA_PATH, \"processed_results\", \"cleaned{}.csv\".format(batchnum)),index=False)\n",
    "\"\"\"\n",
    "for file in os.listdir(os.path.join(DATA_PATH, \"processed_results\")):\n",
    "    if \"cleaned\" in file:\n",
    "        batchnum=file.split(\"cleaned\")[-1]\n",
    "        batchnum=int(batchnum.strip(\".csv\"))\n",
    "        cleaned_file=pd.read_csv(os.path.join(DATA_PATH, \"processed_results\", file))\n",
    "        all_batches_dict[batchnum]=cleaned_file\n",
    "all_batches_df = pd.concat([df for df in all_batches_dict.values()], ignore_index=True)\n",
    "all_batches_df=all_batches_df.drop_duplicates(subset=\"InchiKey\")\n",
    "all_batches_df.to_csv(os.path.join(DATA_PATH, \"processed_results\", \"all_batches.csv\"), index=False)\n",
    "\"\"\""
   ]
  },
  {
   "cell_type": "code",
   "execution_count": null,
   "id": "9f63c8d9",
   "metadata": {},
   "outputs": [],
   "source": []
  }
 ],
 "metadata": {
  "kernelspec": {
   "display_name": "Python 3",
   "language": "python",
   "name": "python3"
  },
  "language_info": {
   "codemirror_mode": {
    "name": "ipython",
    "version": 3
   },
   "file_extension": ".py",
   "mimetype": "text/x-python",
   "name": "python",
   "nbconvert_exporter": "python",
   "pygments_lexer": "ipython3",
   "version": "3.8.10"
  }
 },
 "nbformat": 4,
 "nbformat_minor": 5
}
